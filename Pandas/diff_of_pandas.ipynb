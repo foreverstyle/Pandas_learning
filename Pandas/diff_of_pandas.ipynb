{
 "cells": [
  {
   "cell_type": "markdown",
   "metadata": {},
   "source": [
    "# Pandas 和 Numpy 的差别\n",
    "\n",
    "Pandas 是在 Numpy 上的封装。 继承了 Numpy 的所有优点\n",
    "\n",
    "### 类比 Python"
   ]
  },
  {
   "cell_type": "code",
   "execution_count": 1,
   "metadata": {},
   "outputs": [
    {
     "name": "stdout",
     "output_type": "stream",
     "text": [
      "list: [1, 2, 3]\n",
      "dict: {'a': 1, 'b': 2, 'c': 3}\n"
     ]
    }
   ],
   "source": [
    "a_list = [1,2,3]\n",
    "a_dict = {\"a\": 1, \"b\": 2, \"c\": 3}\n",
    "print(\"list:\", a_list)\n",
    "print(\"dict:\", a_dict)"
   ]
  },
  {
   "cell_type": "code",
   "execution_count": 2,
   "metadata": {},
   "outputs": [
    {
     "name": "stdout",
     "output_type": "stream",
     "text": [
      "numpy array:\n",
      " [[1 2]\n",
      " [3 4]]\n",
      "\n",
      "pandas df:\n",
      "    a  b\n",
      "0  1  2\n",
      "1  3  4\n"
     ]
    }
   ],
   "source": [
    "import pandas as pd\n",
    "import numpy as np\n",
    "\n",
    "a_array = np.array([\n",
    "    [1,2],\n",
    "    [3,4]\n",
    "])\n",
    "a_df = pd.DataFrame(\n",
    "    {\"a\": [1,3], \n",
    "     \"b\": [2,4]}\n",
    ")\n",
    "\n",
    "print(\"numpy array:\\n\", a_array)\n",
    "print(\"\\npandas df:\\n\", a_df)\n"
   ]
  },
  {
   "cell_type": "markdown",
   "metadata": {},
   "source": [
    "我们看到的结果中，Numpy 的是没有任何数据标签信息的，你可以认为它是纯数据。\n",
    "\n",
    "而 Pandas 就像字典一样，还记录着数据的外围信息， 比如标签（Column 名）和索引（Row index）。\n",
    "\n",
    "这也是我为什么总说 Numpy 是 Python 里的列表，而 Pandas 是 Python 里的字典。"
   ]
  },
  {
   "cell_type": "markdown",
   "metadata": {},
   "source": [
    "### 对比 Numpy\n",
    "\n",
    "在 Numpy 中， 如果你不特别在其他地方标注，你是不清楚记录的这里边记录的是什么信息的。\n",
    "\n",
    "而 Pandas 记录的信息可以特别丰富， 你给别人使用传播数据的时，这些信息也会一起传递过去。\n",
    "\n",
    "或者你自己处理数据时对照着信息来加工数据，也会更加友善。\n",
    "\n",
    "另外 Pandas 用于处理数据的功能也比较多，信息种类也更丰富，特别是你有一些包含字符的表格，Pandas 可以帮你处理分析这些字符型的数据表。\n",
    "\n",
    "但是，Pandas 也有不足的地方：运算速度稍微比 Numpy 慢。\n",
    "\n",
    "如果在做少量数据的分析时，因为不涉及到机器学习的模型运算等，我都可以用 Pandas，\n",
    "\n",
    "但如果要模型训练， 训练过程中还一直要调用数据处理的功能， 我肯定毫不犹豫都用 Numpy 来做。"
   ]
  }
 ],
 "metadata": {
  "kernelspec": {
   "display_name": "Python 3",
   "language": "python",
   "name": "python3"
  },
  "language_info": {
   "codemirror_mode": {
    "name": "ipython",
    "version": 3
   },
   "file_extension": ".py",
   "mimetype": "text/x-python",
   "name": "python",
   "nbconvert_exporter": "python",
   "pygments_lexer": "ipython3",
   "version": "3.10.8"
  }
 },
 "nbformat": 4,
 "nbformat_minor": 2
}

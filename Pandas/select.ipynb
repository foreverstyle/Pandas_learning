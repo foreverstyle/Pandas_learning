{
 "cells": [
  {
   "cell_type": "markdown",
   "metadata": {},
   "source": [
    "# 选取数据\n",
    "\n",
    "Pandas 对于数据的选取采用了不同类型的处理方法，比如 .loc, .iloc 等"
   ]
  },
  {
   "cell_type": "code",
   "execution_count": 1,
   "metadata": {},
   "outputs": [
    {
     "name": "stdout",
     "output_type": "stream",
     "text": [
      "    A   B   C   D\n",
      "a -12 -11 -10  -9\n",
      "b  -8  -7  -6  -5\n",
      "c  -4  -3  -2  -1\n",
      "d   0   1   2   3\n",
      "e   4   5   6   7\n",
      "f   8   9  10  11\n"
     ]
    }
   ],
   "source": [
    "import pandas as pd\n",
    "import numpy as np\n",
    "\n",
    "data = np.arange(-12, 12).reshape((6, 4))\n",
    "df = pd.DataFrame(\n",
    "  data, \n",
    "  index=list(\"abcdef\"), \n",
    "  columns=list(\"ABCD\"))\n",
    "print(df)\n",
    "\n",
    "\n",
    "# DataFrame 会分 Column 和 Row（index）。"
   ]
  },
  {
   "cell_type": "markdown",
   "metadata": {},
   "source": [
    "### 选Column"
   ]
  },
  {
   "cell_type": "code",
   "execution_count": 2,
   "metadata": {},
   "outputs": [
    {
     "data": {
      "text/plain": [
       "a   -11\n",
       "b    -7\n",
       "c    -3\n",
       "d     1\n",
       "e     5\n",
       "f     9\n",
       "Name: B, dtype: int32"
      ]
     },
     "execution_count": 2,
     "metadata": {},
     "output_type": "execute_result"
    }
   ],
   "source": [
    "# 搞机器学习，通常我们的 Column 是特征，Row 是数据样本，\n",
    "#  在要对某个特征进行分析的时候，比如要做特征数值分布的分析，我们得把特征取出来吧\n",
    "df[\"B\"]"
   ]
  },
  {
   "cell_type": "code",
   "execution_count": 3,
   "metadata": {},
   "outputs": [
    {
     "name": "stdout",
     "output_type": "stream",
     "text": [
      "numpy:\n",
      " [[-10 -11]\n",
      " [ -6  -7]\n",
      " [ -2  -3]\n",
      " [  2   1]\n",
      " [  6   5]\n",
      " [ 10   9]]\n",
      "\n",
      "df:\n",
      "     C   B\n",
      "a -10 -11\n",
      "b  -6  -7\n",
      "c  -2  -3\n",
      "d   2   1\n",
      "e   6   5\n",
      "f  10   9\n"
     ]
    }
   ],
   "source": [
    "print(\"numpy:\\n\", data[:, [2,1]])\n",
    "print(\"\\ndf:\\n\", df[[\"C\", \"B\"]])\n"
   ]
  },
  {
   "cell_type": "markdown",
   "metadata": {},
   "source": [
    "### loc"
   ]
  },
  {
   "cell_type": "code",
   "execution_count": 4,
   "metadata": {},
   "outputs": [
    {
     "data": {
      "text/plain": [
       "array([[-3, -2]])"
      ]
     },
     "execution_count": 4,
     "metadata": {},
     "output_type": "execute_result"
    }
   ],
   "source": [
    "# 在 Numpy 中选取数据一般都是按照在维度上的排序来定位的\n",
    "# 而在 Pandas 中，选取数据的方式则是按照标签的位置来定位的\n",
    "# 因此，在 Pandas 中，我们可以用标签来选取数据，而不是用索引来选取数据\n",
    "\n",
    "\n",
    "data[2:3, 1:3]\n",
    "\n",
    "#对应[2,1]和[3,3]的元素"
   ]
  },
  {
   "cell_type": "code",
   "execution_count": 7,
   "metadata": {},
   "outputs": [
    {
     "name": "stdout",
     "output_type": "stream",
     "text": [
      "   B  C  D\n",
      "c -3 -2 -1\n",
      "d  1  2  3\n"
     ]
    }
   ],
   "source": [
    "print(df.loc[\"c\":\"d\", \"B\":\"D\"])\n",
    "\n",
    "#不同于Numpy的结果，对应[c,d]行的列[B,C,D]的结果\n",
    "#       B   C   D\n",
    "# c  2.0  3.0  4.0\n",
    "# d  5.0  6.0  7.0"
   ]
  },
  {
   "cell_type": "code",
   "execution_count": 10,
   "metadata": {},
   "outputs": [
    {
     "name": "stdout",
     "output_type": "stream",
     "text": [
      "numpy:\n",
      " [[ 0  1  2  3]\n",
      " [-8 -7 -6 -5]]\n",
      "\n",
      "df:\n",
      "    A  B  C  D\n",
      "d  0  1  2  3\n",
      "b -8 -7 -6 -5\n"
     ]
    }
   ],
   "source": [
    "print(\"numpy:\\n\", data[[3,1], :])\n",
    "print(\"\\ndf:\\n\", df.loc[[\"d\", \"b\"], :])"
   ]
  }
 ],
 "metadata": {
  "kernelspec": {
   "display_name": "Python 3",
   "language": "python",
   "name": "python3"
  },
  "language_info": {
   "codemirror_mode": {
    "name": "ipython",
    "version": 3
   },
   "file_extension": ".py",
   "mimetype": "text/x-python",
   "name": "python",
   "nbconvert_exporter": "python",
   "pygments_lexer": "ipython3",
   "version": "3.10.8"
  }
 },
 "nbformat": 4,
 "nbformat_minor": 2
}

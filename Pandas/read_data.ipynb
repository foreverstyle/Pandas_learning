{
 "cells": [
  {
   "cell_type": "markdown",
   "metadata": {},
   "source": [
    "# 从文件读取数据\n",
    "\n",
    "### Excel文件读取"
   ]
  },
  {
   "cell_type": "code",
   "execution_count": 5,
   "metadata": {},
   "outputs": [
    {
     "name": "stdout",
     "output_type": "stream",
     "text": [
      "    姓名   身高  体重   肺活量\n",
      "学号                   \n",
      "1   小明  168  60  3200\n",
      "2   小黄  187   1  3800\n",
      "3   小花  170  70  3400\n"
     ]
    }
   ],
   "source": [
    "import pandas as pd\n",
    "df = pd.read_excel(\"体检数据.xlsx\", index_col=0)\n",
    "\n",
    "#修改数据\n",
    "df.loc[2, \"体重\"] = 1\n",
    "print(df)\n",
    "df.to_excel(\"体检数据_修改.xlsx\")"
   ]
  },
  {
   "cell_type": "markdown",
   "metadata": {},
   "source": [
    "### csv或txt等纯文本文件\n",
    "\n",
    "txt，csv，log 等这些都可以是纯文本文件，不过值得注意的是，对于 Pandas，它只对结构化的纯文本文件感兴趣\n",
    "\n",
    "如果在你的纯文本文件中， 不是用一些标准的分隔符来分割数据，那么 Pandas 也拿它无能为力，是解析不出来的。"
   ]
  },
  {
   "cell_type": "code",
   "execution_count": 21,
   "metadata": {},
   "outputs": [
    {
     "name": "stdout",
     "output_type": "stream",
     "text": [
      "    姓名   身高  体重   肺活量\n",
      "学号                   \n",
      "1   小明  168  60  3200\n",
      "2   小黄  187  80  3800\n",
      "3   小花  170  70  3400\n",
      "    姓名   身高  体重   肺活量\n",
      "学号                   \n",
      "1   小明  168  60  3200\n",
      "2   小黄  187  80  3800\n",
      "3   小花  170  70  3400\n"
     ]
    }
   ],
   "source": [
    "# with open(\"体检数据.csv\", \"r\", encoding=\"utf-8\") as f:\n",
    "#     print(f.read())\n",
    "\n",
    "df_csv = pd.read_csv(\"体检数据.csv\", index_col=0)\n",
    "print(df_csv)\n",
    "\n",
    "df_txt = pd.read_csv(\"体检数据.csv\", index_col=0)\n",
    "print(df_txt)\n",
    "\n",
    "df_txt.to_excel(\"体检数据_csv_to_excel.xlsx\")"
   ]
  },
  {
   "cell_type": "markdown",
   "metadata": {},
   "source": [
    "### 其他有趣的\n",
    "\n",
    "从剪切板里面读取数据\n",
    "\n",
    "```python\n",
    "df = pd.read_clipboard()\n",
    "```"
   ]
  },
  {
   "cell_type": "code",
   "execution_count": 25,
   "metadata": {},
   "outputs": [
    {
     "data": {
      "text/html": [
       "<div>\n",
       "<style scoped>\n",
       "    .dataframe tbody tr th:only-of-type {\n",
       "        vertical-align: middle;\n",
       "    }\n",
       "\n",
       "    .dataframe tbody tr th {\n",
       "        vertical-align: top;\n",
       "    }\n",
       "\n",
       "    .dataframe thead th {\n",
       "        text-align: right;\n",
       "    }\n",
       "</style>\n",
       "<table border=\"1\" class=\"dataframe\">\n",
       "  <thead>\n",
       "    <tr style=\"text-align: right;\">\n",
       "      <th></th>\n",
       "      <th>https://mofanpy.com/tutorials/data-manipulation/pandas/read-save</th>\n",
       "    </tr>\n",
       "  </thead>\n",
       "  <tbody>\n",
       "  </tbody>\n",
       "</table>\n",
       "</div>"
      ],
      "text/plain": [
       "Empty DataFrame\n",
       "Columns: [https://mofanpy.com/tutorials/data-manipulation/pandas/read-save]\n",
       "Index: []"
      ]
     },
     "execution_count": 25,
     "metadata": {},
     "output_type": "execute_result"
    }
   ],
   "source": [
    "df = pd.read_clipboard()\n",
    "print(df)\n",
    "\n",
    "# 在交互型编辑器（比如 jupyter notebook）中才可以直接使用 df 这种形式。\n",
    "# 在本地python编辑器里好像只有print(df)才能显示出数据，直接df没有数据显示。"
   ]
  },
  {
   "cell_type": "markdown",
   "metadata": {},
   "source": [
    "从网页中获取表格型数据"
   ]
  },
  {
   "cell_type": "code",
   "execution_count": 28,
   "metadata": {},
   "outputs": [],
   "source": [
    "# df = pd.read_html(\"https://mofanpy.com/tutorials/data-manipulation/pandas/read-save/\")\n",
    "# print(df)"
   ]
  }
 ],
 "metadata": {
  "kernelspec": {
   "display_name": "Python 3",
   "language": "python",
   "name": "python3"
  },
  "language_info": {
   "codemirror_mode": {
    "name": "ipython",
    "version": 3
   },
   "file_extension": ".py",
   "mimetype": "text/x-python",
   "name": "python",
   "nbconvert_exporter": "python",
   "pygments_lexer": "ipython3",
   "version": "3.10.8"
  }
 },
 "nbformat": 4,
 "nbformat_minor": 2
}

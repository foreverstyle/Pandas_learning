{
 "cells": [
  {
   "cell_type": "markdown",
   "metadata": {},
   "source": [
    "# 多索引数据 Multi-Indexing\n",
    "\n",
    "多索引在表格展示的时候，对数据规范化非常有利，所以如果你需要用表格来观察数据，是可以用这种形式来组织数据的。 \n",
    "\n",
    "但是如果你要做机器学习或频繁的数据加工时，我肯定不喜欢这样的数据组成方式，因为会让加工难度变高，成本变高。 \n",
    "\n",
    "所以你也可以想想，自己什么时候需要 Multi-Indexing."
   ]
  },
  {
   "cell_type": "markdown",
   "metadata": {},
   "source": [
    "### 构建Row多索引\n",
    "from_tuples()   \n",
    "\n",
    "from_product()\n",
    "\n",
    "from_frame()"
   ]
  },
  {
   "cell_type": "code",
   "execution_count": 1,
   "metadata": {},
   "outputs": [
    {
     "data": {
      "text/plain": [
       "0    小米\n",
       "1    小明\n",
       "2    小命\n",
       "3    小勉\n",
       "4    小牛\n",
       "5    小鸟\n",
       "6    小南\n",
       "7    小妮\n",
       "Name: name, dtype: object"
      ]
     },
     "execution_count": 1,
     "metadata": {},
     "output_type": "execute_result"
    }
   ],
   "source": [
    "import pandas as pd\n",
    "\n",
    "s = pd.Series(\n",
    "  [\"小米\", \"小明\",      # 一年一班\n",
    "   \"小命\", \"小勉\",      # 一年二班\n",
    "   \"小牛\", \"小鸟\",      # 二年一班\n",
    "   \"小南\", \"小妮\"       # 二年二班\n",
    "   ], name=\"name\")\n",
    "s"
   ]
  },
  {
   "cell_type": "code",
   "execution_count": 2,
   "metadata": {},
   "outputs": [
    {
     "data": {
      "text/plain": [
       "MultiIndex([('one', '1'),\n",
       "            ('one', '1'),\n",
       "            ('one', '2'),\n",
       "            ('one', '2'),\n",
       "            ('two', '1'),\n",
       "            ('two', '1'),\n",
       "            ('two', '2'),\n",
       "            ('two', '2')],\n",
       "           names=['grade', 'class'])"
      ]
     },
     "execution_count": 2,
     "metadata": {},
     "output_type": "execute_result"
    }
   ],
   "source": [
    "tuples = [\n",
    "  # 年级，班级\n",
    "  (\"one\", \"1\"),\n",
    "  (\"one\", \"1\"),\n",
    "  (\"one\", \"2\"),  (\"one\", \"2\"),\n",
    "  (\"two\", \"1\"),\n",
    "  (\"two\", \"1\"),\n",
    "  (\"two\", \"2\"),\n",
    "  (\"two\", \"2\"),\n",
    "]\n",
    "index = pd.MultiIndex.from_tuples(\n",
    "  tuples, names=[\"grade\", \"class\"])\n",
    "index"
   ]
  },
  {
   "cell_type": "code",
   "execution_count": 3,
   "metadata": {},
   "outputs": [
    {
     "data": {
      "text/plain": [
       "grade  class\n",
       "one    1        小米\n",
       "       1        小明\n",
       "       2        小命\n",
       "       2        小勉\n",
       "two    1        小牛\n",
       "       1        小鸟\n",
       "       2        小南\n",
       "       2        小妮\n",
       "Name: name, dtype: object"
      ]
     },
     "execution_count": 3,
     "metadata": {},
     "output_type": "execute_result"
    }
   ],
   "source": [
    "s = pd.Series(\n",
    "    [\"小米\", \"小明\",      # 一年一班\n",
    "     \"小命\", \"小勉\",      # 一年二班\n",
    "     \"小牛\", \"小鸟\",      # 二年一班\n",
    "     \"小南\", \"小妮\"       # 二年二班\n",
    "     ], \n",
    "    name=\"name\",\n",
    "    index=index)\n",
    "s"
   ]
  },
  {
   "cell_type": "code",
   "execution_count": 5,
   "metadata": {},
   "outputs": [
    {
     "data": {
      "text/plain": [
       "MultiIndex([('one', '1'),\n",
       "            ('one', '1'),\n",
       "            ('one', '2'),\n",
       "            ('one', '2'),\n",
       "            ('two', '1'),\n",
       "            ('two', '1'),\n",
       "            ('two', '2'),\n",
       "            ('two', '2')],\n",
       "           names=['grade', 'class'])"
      ]
     },
     "execution_count": 5,
     "metadata": {},
     "output_type": "execute_result"
    }
   ],
   "source": [
    "# 获取刚刚构建的 Series 索引，可以直接调用 s.index 来看看。\n",
    "s.index"
   ]
  },
  {
   "cell_type": "code",
   "execution_count": 7,
   "metadata": {},
   "outputs": [
    {
     "data": {
      "text/plain": [
       "grade  class\n",
       "one    1        小米\n",
       "       1        小明\n",
       "       2        小命\n",
       "       2        小勉\n",
       "two    1        小牛\n",
       "       1        小鸟\n",
       "       2        小南\n",
       "       2        小妮\n",
       "Name: name, dtype: object"
      ]
     },
     "execution_count": 7,
     "metadata": {},
     "output_type": "execute_result"
    }
   ],
   "source": [
    "# 更为简便的写法\n",
    "\n",
    "\n",
    "iterables = [\n",
    "  [\"one\", \"two\"],  # 年级\n",
    "  [\"1\", \"1\", \"2\", \"2\"]  # 每个学生所在班级\n",
    "]\n",
    "\n",
    "index2 = pd.MultiIndex.from_product(\n",
    "  iterables, names=[\"grade\", \"class\"])\n",
    "\n",
    "\n",
    "s2 = pd.Series(\n",
    "    [\"小米\", \"小明\",      # 一年一班\n",
    "     \"小命\", \"小勉\",      # 一年二班\n",
    "     \"小牛\", \"小鸟\",      # 二年一班\n",
    "     \"小南\", \"小妮\"       # 二年二班\n",
    "     ], \n",
    "    name=\"name\",\n",
    "    index=index2)\n",
    "s2\n",
    "\n"
   ]
  },
  {
   "cell_type": "markdown",
   "metadata": {},
   "source": [
    "### 构建DataFrame多索引"
   ]
  },
  {
   "cell_type": "code",
   "execution_count": 8,
   "metadata": {},
   "outputs": [
    {
     "data": {
      "text/html": [
       "<div>\n",
       "<style scoped>\n",
       "    .dataframe tbody tr th:only-of-type {\n",
       "        vertical-align: middle;\n",
       "    }\n",
       "\n",
       "    .dataframe tbody tr th {\n",
       "        vertical-align: top;\n",
       "    }\n",
       "\n",
       "    .dataframe thead th {\n",
       "        text-align: right;\n",
       "    }\n",
       "</style>\n",
       "<table border=\"1\" class=\"dataframe\">\n",
       "  <thead>\n",
       "    <tr style=\"text-align: right;\">\n",
       "      <th></th>\n",
       "      <th></th>\n",
       "      <th>id</th>\n",
       "      <th>name</th>\n",
       "    </tr>\n",
       "    <tr>\n",
       "      <th>grade</th>\n",
       "      <th>class</th>\n",
       "      <th></th>\n",
       "      <th></th>\n",
       "    </tr>\n",
       "  </thead>\n",
       "  <tbody>\n",
       "    <tr>\n",
       "      <th rowspan=\"4\" valign=\"top\">one</th>\n",
       "      <th>1</th>\n",
       "      <td>11</td>\n",
       "      <td>小米</td>\n",
       "    </tr>\n",
       "    <tr>\n",
       "      <th>1</th>\n",
       "      <td>12</td>\n",
       "      <td>小明</td>\n",
       "    </tr>\n",
       "    <tr>\n",
       "      <th>2</th>\n",
       "      <td>13</td>\n",
       "      <td>小命</td>\n",
       "    </tr>\n",
       "    <tr>\n",
       "      <th>2</th>\n",
       "      <td>14</td>\n",
       "      <td>小勉</td>\n",
       "    </tr>\n",
       "    <tr>\n",
       "      <th rowspan=\"4\" valign=\"top\">two</th>\n",
       "      <th>1</th>\n",
       "      <td>15</td>\n",
       "      <td>小牛</td>\n",
       "    </tr>\n",
       "    <tr>\n",
       "      <th>1</th>\n",
       "      <td>16</td>\n",
       "      <td>小鸟</td>\n",
       "    </tr>\n",
       "    <tr>\n",
       "      <th>2</th>\n",
       "      <td>17</td>\n",
       "      <td>小南</td>\n",
       "    </tr>\n",
       "    <tr>\n",
       "      <th>2</th>\n",
       "      <td>18</td>\n",
       "      <td>小妮</td>\n",
       "    </tr>\n",
       "  </tbody>\n",
       "</table>\n",
       "</div>"
      ],
      "text/plain": [
       "             id name\n",
       "grade class         \n",
       "one   1      11   小米\n",
       "      1      12   小明\n",
       "      2      13   小命\n",
       "      2      14   小勉\n",
       "two   1      15   小牛\n",
       "      1      16   小鸟\n",
       "      2      17   小南\n",
       "      2      18   小妮"
      ]
     },
     "execution_count": 8,
     "metadata": {},
     "output_type": "execute_result"
    }
   ],
   "source": [
    "df1 = pd.DataFrame(\n",
    "    {\"id\": [11,12,13,14,15,16,17,18],\n",
    "    \"name\": \n",
    "     [\"小米\", \"小明\",      # 一年一班\n",
    "     \"小命\", \"小勉\",      # 一年二班\n",
    "     \"小牛\", \"小鸟\",      # 二年一班\n",
    "     \"小南\", \"小妮\"       # 二年二班\n",
    "    ]},\n",
    "    index=index)\n",
    "df1\n"
   ]
  }
 ],
 "metadata": {
  "kernelspec": {
   "display_name": "Python 3",
   "language": "python",
   "name": "python3"
  },
  "language_info": {
   "codemirror_mode": {
    "name": "ipython",
    "version": 3
   },
   "file_extension": ".py",
   "mimetype": "text/x-python",
   "name": "python",
   "nbconvert_exporter": "python",
   "pygments_lexer": "ipython3",
   "version": "3.10.8"
  }
 },
 "nbformat": 4,
 "nbformat_minor": 2
}

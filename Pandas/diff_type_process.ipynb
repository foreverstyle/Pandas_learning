{
 "cells": [
  {
   "cell_type": "markdown",
   "metadata": {},
   "source": [
    "# 文字处理\n",
    "在处理数据的丰富度上，比如要处理文字，日期型数据的时候，Pandas 还是有很大优势的"
   ]
  },
  {
   "cell_type": "code",
   "execution_count": 1,
   "metadata": {},
   "outputs": [
    {
     "name": "stdout",
     "output_type": "stream",
     "text": [
      "python:\n",
      " A,B,C,AABA,BACA,CABA,DOG,CAT\n",
      "\n",
      "pandas:\n",
      " 0       A\n",
      "1       B\n",
      "2       C\n",
      "3    AABA\n",
      "4    BACA\n",
      "5    CABA\n",
      "6     DOG\n",
      "7     CAT\n",
      "dtype: string\n"
     ]
    }
   ],
   "source": [
    "# 格式化字符\n",
    "\n",
    "import pandas as pd\n",
    "\n",
    "py_s = \"A,B,C,Aaba,Baca,CABA,dog,cat\"\n",
    "pd_s = pd.Series(\n",
    "    [\"A\", \"B\", \"C\", \"Aaba\", \"Baca\", \"CABA\", \"dog\", \"cat\"],\n",
    "    dtype=\"string\")\n",
    "\n",
    "print(\"python:\\n\", py_s.upper())\n",
    "print(\"\\npandas:\\n\", pd_s.str.upper())\n"
   ]
  },
  {
   "cell_type": "code",
   "execution_count": 2,
   "metadata": {},
   "outputs": [
    {
     "name": "stdout",
     "output_type": "stream",
     "text": [
      "pd_not_s type: object\n",
      "pd_s type: string\n"
     ]
    }
   ],
   "source": [
    "pd_not_s = pd.Series(\n",
    "    [\"A\", \"B\", \"C\", \"Aaba\", \"Baca\", \"CABA\", \"dog\", \"cat\"],\n",
    ")\n",
    "print(\"pd_not_s type:\", pd_not_s.dtype)\n",
    "pd_s = pd_not_s.astype(\"string\")\n",
    "print(\"pd_s type:\", pd_s.dtype)"
   ]
  },
  {
   "cell_type": "code",
   "execution_count": 3,
   "metadata": {},
   "outputs": [
    {
     "data": {
      "text/plain": [
       "0    A\n",
       "1    B\n",
       "Name: 0, dtype: object"
      ]
     },
     "execution_count": 3,
     "metadata": {},
     "output_type": "execute_result"
    }
   ],
   "source": [
    "# 其实 DataFrame 也是一样的。 你要做的，只是先选一个 column 或者 row，拿到一个 Series 再开始做 str 的处理\n",
    "\n",
    "pd_df = pd.DataFrame([[\"a\", \"b\"], [\"C\", \"D\"]])\n",
    "pd_df.iloc[0, :].str.upper()"
   ]
  }
 ],
 "metadata": {
  "kernelspec": {
   "display_name": "Python 3",
   "language": "python",
   "name": "python3"
  },
  "language_info": {
   "codemirror_mode": {
    "name": "ipython",
    "version": 3
   },
   "file_extension": ".py",
   "mimetype": "text/x-python",
   "name": "python",
   "nbconvert_exporter": "python",
   "pygments_lexer": "ipython3",
   "version": "3.10.8"
  }
 },
 "nbformat": 4,
 "nbformat_minor": 2
}

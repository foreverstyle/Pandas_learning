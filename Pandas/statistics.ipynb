{
 "cells": [
  {
   "cell_type": "markdown",
   "metadata": {},
   "source": [
    "# 基础统计方法\n",
    "\n",
    "在 Pandas 上做数据统计，要比在 Numpy 上做舒服很多，因为在数据展示上，有很多额外的信息辅助你来消化这些信息。 \n",
    "\n",
    "而且你还能比较方便地绘制成图。"
   ]
  },
  {
   "cell_type": "code",
   "execution_count": 4,
   "metadata": {},
   "outputs": [
    {
     "name": "stdout",
     "output_type": "stream",
     "text": [
      "      c0    c1    c2\n",
      "r0  1.39  1.77  None\n",
      "r1  0.34  1.91 -0.05\n",
      "r2  0.34  1.47  1.22\n",
      "r3  None  0.27 -0.61\n"
     ]
    }
   ],
   "source": [
    "import pandas as pd\n",
    "import numpy as np\n",
    "\n",
    "data = np.array([\n",
    "    [1.39, 1.77, None],\n",
    "    [0.34, 1.91, -0.05],\n",
    "    [0.34, 1.47, 1.22],\n",
    "    [None, 0.27, -0.61]\n",
    "])\n",
    "df = pd.DataFrame(data, index=[\"r0\", \"r1\", \"r2\", \"r3\"], columns=[\"c0\", \"c1\", \"c2\"])\n",
    "print(df)"
   ]
  },
  {
   "cell_type": "markdown",
   "metadata": {},
   "source": [
    "### 快速总结\n",
    "describe()函数可以快速查看数据集的统计信息，包括count、mean、std、min、25%、50%、75%、max等。"
   ]
  },
  {
   "cell_type": "code",
   "execution_count": 3,
   "metadata": {},
   "outputs": [
    {
     "name": "stdout",
     "output_type": "stream",
     "text": [
      "          c0    c1    c2\n",
      "count   3.00  4.00  3.00\n",
      "unique  2.00  4.00  3.00\n",
      "top     0.34  1.77 -0.05\n",
      "freq    2.00  1.00  1.00\n"
     ]
    }
   ],
   "source": [
    "print(df.describe())\n",
    "\n",
    "# Output:\n",
    "# count: 有效数据个数\n",
    "#unique: 唯一值个数\n",
    "#top: 最常出现的值\n",
    "#freq: 最常出现的值的频率"
   ]
  },
  {
   "cell_type": "code",
   "execution_count": 5,
   "metadata": {},
   "outputs": [
    {
     "name": "stdout",
     "output_type": "stream",
     "text": [
      "         c0        c1        c2\n",
      "0  0.803097  0.951139  0.383444\n",
      "1  0.506820  0.725446  0.714405\n",
      "2  0.312065  0.456756  0.799746\n",
      "3  0.677800  0.909212  0.448727\n",
      "\n",
      "describe:\n",
      "              c0        c1        c2\n",
      "count  4.000000  4.000000  4.000000\n",
      "mean   0.574946  0.760638  0.586580\n",
      "std    0.213213  0.225054  0.201698\n",
      "min    0.312065  0.456756  0.383444\n",
      "25%    0.458132  0.658274  0.432406\n",
      "50%    0.592310  0.817329  0.581566\n",
      "75%    0.709124  0.919694  0.735740\n",
      "max    0.803097  0.951139  0.799746\n"
     ]
    }
   ],
   "source": [
    "# 纯数值型的数据\n",
    "\n",
    "df1 = pd.DataFrame(np.random.random((4,3)), columns=[\"c0\", \"c1\", \"c2\"])\n",
    "print(df1)\n",
    "print(\"\\ndescribe:\\n\", df1.describe())\n",
    "\n",
    "# output\n",
    "# count: 有效数据个数\n",
    "# mean: 平均值\n",
    "# std: 标准差\n",
    "# min: 最小值\n",
    "# 25%: 25%分位数\n",
    "# 50%: 50%分位数\n",
    "# 75%: 75%分位数\n",
    "# max: 最大值\n"
   ]
  },
  {
   "cell_type": "markdown",
   "metadata": {},
   "source": [
    "#mean() 计算平均值\n",
    "\n",
    "#median() 计算中位数\n",
    "\n",
    "#std() 计算标准差\n",
    "\n",
    "#var() 计算方差\n",
    "\n",
    "#min() 计算最小值\n",
    "\n",
    "#max() 计算最大值\n",
    "\n",
    "#sum() 计算总和\n",
    "\n",
    "#prod() 计算乘积\n",
    "\n",
    "#describe() 计算汇总统计"
   ]
  },
  {
   "cell_type": "code",
   "execution_count": 9,
   "metadata": {},
   "outputs": [
    {
     "name": "stderr",
     "output_type": "stream",
     "text": [
      "C:\\Users\\Style丶深情\\AppData\\Local\\Temp\\ipykernel_7396\\220475675.py:5: FutureWarning: The default value of numeric_only in DataFrame.mean is deprecated. In a future version, it will default to False. In addition, specifying 'numeric_only=None' is deprecated. Select only valid columns or specify the value of numeric_only to silence this warning.\n",
      "  df.mean(axis=0, skipna=False)\n"
     ]
    },
    {
     "data": {
      "text/plain": [
       "c1    1.355\n",
       "dtype: float64"
      ]
     },
     "execution_count": 9,
     "metadata": {},
     "output_type": "execute_result"
    }
   ],
   "source": [
    "#mean() 计算平均值\n",
    "\n",
    "#均值中位数\n",
    "df.mean()\n",
    "df.mean(axis=0)\n",
    "\n",
    "df.mean(axis=0, skipna=False)\n",
    "#  Pandas 只要遇到了 None 或者 NaN，就不计算这列、行的数据了。所以下面你会看到，它只返回了一个 column 的结果"
   ]
  },
  {
   "cell_type": "code",
   "execution_count": 10,
   "metadata": {},
   "outputs": [
    {
     "name": "stdout",
     "output_type": "stream",
     "text": [
      "mean(): 26750.0\n",
      "median(): 3000.0\n"
     ]
    }
   ],
   "source": [
    "#median() 函数计算序列的中位数。如果序列的长度为奇数，则中位数为中间的那个数；如果序列的长度为偶数，则中位数为中间的两个数的平均值。\n",
    "\n",
    "# 最后一个为高收入人\n",
    "s = pd.Series([1000, 2000, 4000, 100000])\n",
    "print(\"mean():\", s.mean())   # 拉高平均收入，拉高仇恨\n",
    "print(\"median():\", s.median())  # 比较合理"
   ]
  },
  {
   "cell_type": "markdown",
   "metadata": {},
   "source": [
    "### 处理空值\n",
    "你可能想要先看看你的数据中有没有空值。用下面的 isnull() 或者 notnull() 就能找到。"
   ]
  },
  {
   "cell_type": "code",
   "execution_count": 11,
   "metadata": {},
   "outputs": [
    {
     "name": "stdout",
     "output_type": "stream",
     "text": [
      "     A    B    C    D\n",
      "0  1.0  2.0  3.0  0.0\n",
      "1  3.0  4.0  NaN  1.0\n",
      "2  NaN  NaN  NaN  NaN\n",
      "3  NaN  3.0  NaN  4.0\n",
      "\n",
      "isnull():\n",
      "        A      B      C      D\n",
      "0  False  False  False  False\n",
      "1  False  False   True  False\n",
      "2   True   True   True   True\n",
      "3   True  False   True  False\n",
      "\n",
      "notnull()\n",
      "        A      B      C      D\n",
      "0   True   True   True   True\n",
      "1   True   True  False   True\n",
      "2  False  False  False  False\n",
      "3  False   True  False   True\n"
     ]
    }
   ],
   "source": [
    "df = pd.DataFrame([[1, 2, 3, 0],\n",
    "                   [3, 4, None, 1],\n",
    "                   [None, None, None, None],\n",
    "                   [None, 3, None, 4]],\n",
    "                  columns=list(\"ABCD\"))\n",
    "print(df)\n",
    "print(\"\\nisnull():\\n\", df.isnull())  # True 就是空\n",
    "print(\"\\nnotnull()\\n\", df.notnull())  # False 为空"
   ]
  },
  {
   "cell_type": "code",
   "execution_count": 12,
   "metadata": {},
   "outputs": [
    {
     "name": "stdout",
     "output_type": "stream",
     "text": [
      "默认：\n",
      "      A    B    C    D\n",
      "0  1.0  2.0  3.0  0.0\n",
      "\n",
      "axis=1:\n",
      " Empty DataFrame\n",
      "Columns: []\n",
      "Index: [0, 1, 2, 3]\n"
     ]
    }
   ],
   "source": [
    "# 发现这里有空值，下面你就可以对这些 None, Null, NaN 做处理了。要么你就放弃这些有空值的数据，用 dropna()。\n",
    "\n",
    "print(\"默认：\\n\", df.dropna())  # 默认按 axis=0\n",
    "print(\"\\naxis=1:\\n\", df.dropna(axis=1))  # 可以换一个 axis drop\n"
   ]
  },
  {
   "cell_type": "code",
   "execution_count": 13,
   "metadata": {},
   "outputs": [
    {
     "name": "stdout",
     "output_type": "stream",
     "text": [
      "     0     1    2\n",
      "1  1.0  None  3.0\n"
     ]
    }
   ],
   "source": [
    "# 你觉得数据只要有值你就想留下来，只去除掉那些全为空的数据，那么你还能在筛选的时候加一个 how=\"all\" 参数。\n",
    "\n",
    "df1 = pd.DataFrame([[None, None, None], [1,None,3]])\n",
    "print(df1.dropna(how=\"all\"))  # how 默认为 \"any\" "
   ]
  },
  {
   "cell_type": "markdown",
   "metadata": {},
   "source": [
    "### 填充数据"
   ]
  },
  {
   "cell_type": "code",
   "execution_count": 15,
   "metadata": {},
   "outputs": [
    {
     "name": "stdout",
     "output_type": "stream",
     "text": [
      "       A      B      C      D\n",
      "0    1.0    2.0    3.0    0.0\n",
      "1    3.0    4.0  111.0    1.0\n",
      "2  111.0  111.0  111.0  111.0\n",
      "3  111.0    3.0  111.0    4.0\n"
     ]
    }
   ],
   "source": [
    "# 充的值也可以自行选定\n",
    "\n",
    "print(df.fillna(111)) # 填充 111"
   ]
  },
  {
   "cell_type": "code",
   "execution_count": 17,
   "metadata": {},
   "outputs": [
    {
     "name": "stdout",
     "output_type": "stream",
     "text": [
      "     A    B    C    D\n",
      "0  1.0  2.0  3.0  0.0\n",
      "1  3.0  4.0  2.0  1.0\n",
      "2  0.0  1.0  2.0  3.0\n",
      "3  0.0  3.0  2.0  4.0\n"
     ]
    }
   ],
   "source": [
    "# 对不同特征列做差异化的填充数值。\n",
    "values = {\"A\": 0, \"B\": 1, \"C\": 2, \"D\": 3}\n",
    "print(df.fillna(value=values))"
   ]
  },
  {
   "cell_type": "code",
   "execution_count": 18,
   "metadata": {},
   "outputs": [
    {
     "name": "stdout",
     "output_type": "stream",
     "text": [
      "df2:\n",
      "     A   B   C   D\n",
      "0   0   1   2   3\n",
      "1   4   5   6   7\n",
      "2   8   9  10  11\n",
      "3  12  13  14  15\n",
      "\n",
      "fillna(df2):\n",
      "       A    B     C     D\n",
      "0   1.0  2.0   3.0   0.0\n",
      "1   3.0  4.0   6.0   1.0\n",
      "2   8.0  9.0  10.0  11.0\n",
      "3  12.0  3.0  14.0   4.0\n"
     ]
    }
   ],
   "source": [
    "# 如果你有一个每一位上的默认值，你都可以用一个全新的 df 来做空位的填充。\n",
    "df2 = pd.DataFrame(np.arange(16).reshape((4,4)), columns=list(\"ABCD\"))\n",
    "print(\"df2:\\n\", df2)\n",
    "print(\"\\nfillna(df2):\\n\", df.fillna(df2))\n"
   ]
  },
  {
   "cell_type": "markdown",
   "metadata": {},
   "source": [
    "### 获取索引\n",
    "一般来说，当你想用 np.argmax() 或者 np.argmin() 的时候，你可以在 pandas 用 idxmax() 和 idxmin() 来替换。\n",
    "\n",
    "原理都一样， 就是找到那个最大最小值的索引。这个的好处是，你只关注索引而不用关注值，你可以对这个索引的值做你想要的后续处理。"
   ]
  },
  {
   "cell_type": "code",
   "execution_count": 19,
   "metadata": {},
   "outputs": [
    {
     "name": "stdout",
     "output_type": "stream",
     "text": [
      "   A  B    C  D\n",
      "0  1  2  3.0  0\n",
      "1  3  4  NaN  1\n",
      "2  3  5  2.0  1\n",
      "3  3  2  2.0  3\n",
      "\n",
      "idxmax():\n",
      " A    1\n",
      "B    2\n",
      "C    0\n",
      "D    3\n",
      "dtype: int64\n",
      "\n",
      "idxmax(skipna=False):\n",
      " A    1.0\n",
      "B    2.0\n",
      "C    NaN\n",
      "D    3.0\n",
      "dtype: float64\n",
      "\n",
      "idxmin():\n",
      " A    0\n",
      "B    0\n",
      "C    2\n",
      "D    0\n",
      "dtype: int64\n"
     ]
    }
   ],
   "source": [
    "df = pd.DataFrame([[1, 2, 3, 0],\n",
    "                   [3, 4, None, 1],\n",
    "                   [3, 5, 2, 1],\n",
    "                   [3, 2, 2, 3]],\n",
    "                  columns=list(\"ABCD\"))\n",
    "print(df)\n",
    "print(\"\\nidxmax():\\n\", df.idxmax())\n",
    "print(\"\\nidxmax(skipna=False):\\n\", df.idxmax(skipna=False))\n",
    "print(\"\\nidxmin():\\n\", df.idxmin())"
   ]
  }
 ],
 "metadata": {
  "kernelspec": {
   "display_name": "Python 3",
   "language": "python",
   "name": "python3"
  },
  "language_info": {
   "codemirror_mode": {
    "name": "ipython",
    "version": 3
   },
   "file_extension": ".py",
   "mimetype": "text/x-python",
   "name": "python",
   "nbconvert_exporter": "python",
   "pygments_lexer": "ipython3",
   "version": "3.10.8"
  }
 },
 "nbformat": 4,
 "nbformat_minor": 2
}
